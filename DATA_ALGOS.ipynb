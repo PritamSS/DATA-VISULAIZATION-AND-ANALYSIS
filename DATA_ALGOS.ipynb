{
  "nbformat": 4,
  "nbformat_minor": 0,
  "metadata": {
    "colab": {
      "name": "DATA_ALGOS.ipynb",
      "provenance": []
    },
    "kernelspec": {
      "name": "python3",
      "display_name": "Python 3"
    },
    "language_info": {
      "name": "python"
    }
  },
  "cells": [
    {
      "cell_type": "code",
      "metadata": {
        "id": "4KJ-x2TNZ5w4"
      },
      "source": [
        "import matplotlib.pyplot as plt\n",
        "import pandas as pd\n",
        "import numpy as np\n",
        "import seaborn as sns\n",
        "\n",
        "from sklearn.ensemble import RandomForestClassifier\n",
        "from sklearn.tree import DecisionTreeClassifier\n",
        "from sklearn.model_selection import train_test_split"
      ],
      "execution_count": null,
      "outputs": []
    },
    {
      "cell_type": "code",
      "metadata": {
        "id": "bGtRoROxh7BA"
      },
      "source": [
        "from sklearn.model_selection import cross_val_score\n",
        "from sklearn.metrics import accuracy_score, confusion_matrix, recall_score\n",
        "from sklearn.linear_model import LogisticRegression\n",
        "from sklearn.metrics import classification_report"
      ],
      "execution_count": null,
      "outputs": []
    },
    {
      "cell_type": "code",
      "metadata": {
        "id": "LFpD43hVeMWB"
      },
      "source": [
        "file = r'https://raw.githubusercontent.com/PritamSS/ml3/main/heart.csv'\n",
        "\n",
        "df_heart = pd.read_csv(file)\n",
        "\n",
        "df_heart_2 = df_heart.copy()"
      ],
      "execution_count": null,
      "outputs": []
    },
    {
      "cell_type": "code",
      "metadata": {
        "colab": {
          "base_uri": "https://localhost:8080/"
        },
        "id": "E8KT9meXeepR",
        "outputId": "922a02d9-2aac-446e-bfc5-c8aceeffbb18"
      },
      "source": [
        "j = 0\n",
        "for i in df_heart['Sex'].unique():\n",
        "  df_heart_2['Sex']=df_heart_2['Sex'].replace(i, j)\n",
        "  j = j+1\n",
        "\n",
        "print(df_heart['Sex'].unique())\n",
        "print(df_heart_2['Sex'].unique())\n",
        "\n",
        "\n",
        "j = 0\n",
        "for i in df_heart['ChestPainType'].unique():\n",
        "  df_heart_2['ChestPainType']=df_heart_2['ChestPainType'].replace(i, j)\n",
        "  j = j+1\n",
        "\n",
        "print(df_heart['ChestPainType'].unique())\n",
        "print(df_heart_2['ChestPainType'].unique())\n",
        "\n",
        "j = 0\n",
        "for i in df_heart['RestingECG'].unique():\n",
        "  df_heart_2['RestingECG']=df_heart_2['RestingECG'].replace(i, j)\n",
        "  j = j+1\n",
        "\n",
        "print(df_heart['RestingECG'].unique())\n",
        "print(df_heart_2['RestingECG'].unique())\n",
        "\n",
        "j = 0\n",
        "for i in df_heart['ExerciseAngina'].unique():\n",
        "  df_heart_2['ExerciseAngina']=df_heart_2['ExerciseAngina'].replace(i, j)\n",
        "  j = j+1\n",
        "\n",
        "\n",
        "print(df_heart['ExerciseAngina'].unique())\n",
        "print(df_heart_2['ExerciseAngina'].unique())\n",
        "\n",
        "j = 0\n",
        "for i in df_heart_2['ST_Slope'].unique():\n",
        "  df_heart_2['ST_Slope']=df_heart_2['ST_Slope'].replace(i, j)\n",
        "  j = j+1\n",
        "\n",
        "print(df_heart['ST_Slope'].unique())\n",
        "print(df_heart_2['ST_Slope'].unique())"
      ],
      "execution_count": null,
      "outputs": [
        {
          "output_type": "stream",
          "name": "stdout",
          "text": [
            "['M' 'F']\n",
            "[0 1]\n",
            "['ATA' 'NAP' 'ASY' 'TA']\n",
            "[0 1 2 3]\n",
            "['Normal' 'ST' 'LVH']\n",
            "[0 1 2]\n",
            "['N' 'Y']\n",
            "[0 1]\n",
            "['Up' 'Flat' 'Down']\n",
            "[0 1 2]\n"
          ]
        }
      ]
    },
    {
      "cell_type": "code",
      "metadata": {
        "id": "4E2DX3K3e5kp"
      },
      "source": [
        "df = df_heart_2[df_heart_2.Cholesterol != 0]"
      ],
      "execution_count": null,
      "outputs": []
    },
    {
      "cell_type": "code",
      "metadata": {
        "colab": {
          "base_uri": "https://localhost:8080/",
          "height": 612
        },
        "id": "VARFB2MAhnsH",
        "outputId": "c02d085e-01a9-48fa-e54b-da4746c12237"
      },
      "source": [
        "X=df.drop('HeartDisease', axis=1)\n",
        "Y=df['HeartDisease']\n",
        "\n",
        "X_train, X_test, Y_train, Y_test= train_test_split(X, Y, test_size=0.25)\n",
        "\n",
        "lr = LogisticRegression()\n",
        "classifier = lr.fit(X_train,Y_train)\n",
        "y_pred = lr.predict(X_test)\n",
        "acc = accuracy_score(Y_test,y_pred)*100\n",
        "rec = recall_score(Y_test,y_pred)*100\n",
        "\n",
        "\n",
        "print('Model Accuracy is:{}'.format(round((acc),2)))\n",
        "print('Recall Score is:{}'.format(round((rec),2)))\n",
        "print(classification_report(Y_test,y_pred))\n",
        "\n",
        "cm = confusion_matrix(Y_test,y_pred)\n",
        "sns.heatmap(cm,annot=True)"
      ],
      "execution_count": null,
      "outputs": [
        {
          "output_type": "stream",
          "name": "stdout",
          "text": [
            "Model Accuracy is:85.03\n",
            "Recall Score is:84.09\n",
            "              precision    recall  f1-score   support\n",
            "\n",
            "           0       0.86      0.86      0.86        99\n",
            "           1       0.84      0.84      0.84        88\n",
            "\n",
            "    accuracy                           0.85       187\n",
            "   macro avg       0.85      0.85      0.85       187\n",
            "weighted avg       0.85      0.85      0.85       187\n",
            "\n"
          ]
        },
        {
          "output_type": "stream",
          "name": "stderr",
          "text": [
            "/usr/local/lib/python3.7/dist-packages/sklearn/linear_model/_logistic.py:818: ConvergenceWarning: lbfgs failed to converge (status=1):\n",
            "STOP: TOTAL NO. of ITERATIONS REACHED LIMIT.\n",
            "\n",
            "Increase the number of iterations (max_iter) or scale the data as shown in:\n",
            "    https://scikit-learn.org/stable/modules/preprocessing.html\n",
            "Please also refer to the documentation for alternative solver options:\n",
            "    https://scikit-learn.org/stable/modules/linear_model.html#logistic-regression\n",
            "  extra_warning_msg=_LOGISTIC_SOLVER_CONVERGENCE_MSG,\n"
          ]
        },
        {
          "output_type": "execute_result",
          "data": {
            "text/plain": [
              "<matplotlib.axes._subplots.AxesSubplot at 0x7f04bb654690>"
            ]
          },
          "metadata": {},
          "execution_count": 7
        },
        {
          "output_type": "display_data",
          "data": {
            "image/png": "[encoded data removed]",
            "text/plain": [
              "<Figure size 432x288 with 2 Axes>"
            ]
          },
          "metadata": {
            "needs_background": "light"
          }
        }
      ]
    },
    {
      "cell_type": "code",
      "metadata": {
        "colab": {
          "base_uri": "https://localhost:8080/"
        },
        "id": "Ad8m8nuhfdz-",
        "outputId": "7fed4d13-5a67-4fc0-ccfd-a8f0bbf18ca8"
      },
      "source": [
        "X=df.drop('HeartDisease', axis=1)\n",
        "Y=df['HeartDisease']\n",
        "\n",
        "X_train, X_test, Y_train, Y_test= train_test_split(X, Y, test_size=0.25)\n",
        "\n",
        "tree=DecisionTreeClassifier()\n",
        "tree.fit(X_train, Y_train)\n",
        "\n",
        "print(\"training set score:%f\" % tree.score(X_train, Y_train))\n",
        "print(\"testing set score:%f\" % tree.score(X_test, Y_test))"
      ],
      "execution_count": null,
      "outputs": [
        {
          "output_type": "stream",
          "name": "stdout",
          "text": [
            "training set score:1.000000\n",
            "testing set score:0.812834\n"
          ]
        }
      ]
    },
    {
      "cell_type": "code",
      "metadata": {
        "colab": {
          "base_uri": "https://localhost:8080/"
        },
        "id": "LLKcCwuTfuzY",
        "outputId": "a67bbc43-460d-472d-bbe6-1156324cd027"
      },
      "source": [
        "from sklearn.model_selection import cross_val_score\n",
        "\n",
        "tree_cross_val = DecisionTreeClassifier()\n",
        "\n",
        "scores= cross_val_score(tree_cross_val, X, Y, cv=5)\n",
        "\n",
        "print(\"Training cross validation scores:\", scores)\n",
        "print(\"mean score:\", scores.mean())"
      ],
      "execution_count": null,
      "outputs": [
        {
          "output_type": "stream",
          "name": "stdout",
          "text": [
            "Training cross validation scores: [0.78666667 0.82550336 0.80536913 0.60402685 0.69127517]\n",
            "mean score: 0.7425682326621924\n"
          ]
        }
      ]
    },
    {
      "cell_type": "code",
      "metadata": {
        "colab": {
          "base_uri": "https://localhost:8080/"
        },
        "id": "pd6AvO_Gf4BP",
        "outputId": "0f347218-d24d-47a4-f70b-011ef284846a"
      },
      "source": [
        "best_score=0\n",
        "\n",
        "for depth in range(2,10):\n",
        "  for split in range(2,5): \n",
        "    for leaf in range(5, 20):\n",
        "      for criteria in ['gini', 'entropy']:\n",
        "        tree_grid_search=DecisionTreeClassifier(criterion=criteria, max_depth=depth, min_samples_split=split, max_leaf_nodes=leaf)\n",
        "\n",
        "        tree_grid_search.fit(X_train, Y_train)\n",
        "        score=tree_grid_search.score(X_test, Y_test)\n",
        "\n",
        "        if  score > best_score:\n",
        "          best_score = score\n",
        "          best_parameters={'Depth': depth, 'Split': split, 'Leaves':leaf, 'Criterion':criteria}\n",
        "\n",
        "print(\"best score =\", best_score)\n",
        "print(best_parameters)"
      ],
      "execution_count": null,
      "outputs": [
        {
          "output_type": "stream",
          "name": "stdout",
          "text": [
            "best score = 0.8449197860962567\n",
            "{'Depth': 3, 'Split': 2, 'Leaves': 7, 'Criterion': 'gini'}\n"
          ]
        }
      ]
    },
    {
      "cell_type": "code",
      "metadata": {
        "id": "cxutcgEsk9th"
      },
      "source": [
        "X=df.drop('HeartDisease', axis=1)\n",
        "Y=df['HeartDisease']\n",
        "\n",
        "X_train, X_test, Y_train, Y_test= train_test_split(X, Y, test_size=0.25)\n",
        "\n",
        "\n",
        "rfc = RandomForestClassifier(n_estimators=1000,random_state=0)\n",
        "rfc.fit(X_train,Y_train)\n",
        "y_pred=rfc.predict(X_test)"
      ],
      "execution_count": null,
      "outputs": []
    },
    {
      "cell_type": "code",
      "metadata": {
        "colab": {
          "base_uri": "https://localhost:8080/"
        },
        "id": "SlIfGx_2lI-P",
        "outputId": "a2777388-0927-4f32-b474-788f00b395fe"
      },
      "source": [
        "acc = accuracy_score(Y_test,y_pred)*100\n",
        "rec = recall_score(Y_test,y_pred)*100\n",
        "print('Model Accuracy is:{}'.format(round((acc),2)))\n",
        "print('Recall Score is:{}'.format(round((rec),2)))\n",
        "print(classification_report(Y_test,y_pred))"
      ],
      "execution_count": null,
      "outputs": [
        {
          "output_type": "stream",
          "name": "stdout",
          "text": [
            "Model Accuracy is:83.42\n",
            "Recall Score is:86.32\n",
            "              precision    recall  f1-score   support\n",
            "\n",
            "           0       0.85      0.80      0.83        92\n",
            "           1       0.82      0.86      0.84        95\n",
            "\n",
            "    accuracy                           0.83       187\n",
            "   macro avg       0.84      0.83      0.83       187\n",
            "weighted avg       0.84      0.83      0.83       187\n",
            "\n"
          ]
        }
      ]
    }
  ]
}